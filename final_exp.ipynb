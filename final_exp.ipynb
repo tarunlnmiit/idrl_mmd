{
 "cells": [
  {
   "cell_type": "code",
   "execution_count": 1,
   "id": "strange-decimal",
   "metadata": {},
   "outputs": [],
   "source": [
    "import torch\n",
    "import torchvision\n",
    "from torch.utils.data import DataLoader\n",
    "\n",
    "import os\n",
    "import cv2\n",
    "from tqdm.notebook import trange\n",
    "\n",
    "import gym\n",
    "from gym import spaces\n",
    "\n",
    "from stable_baselines3 import DQN\n",
    "from stable_baselines3.common.vec_env import DummyVecEnv\n",
    "from stable_baselines3.dqn.policies import CnnPolicy\n",
    "\n",
    "import matplotlib.pyplot as plt\n",
    "import numpy as np\n",
    "import pandas as pd\n",
    "import csv\n",
    "import sklearn as sk\n",
    "from sklearn import datasets\n",
    "# from stable_baselines3.common.policies import register_policy\n",
    "# register_policy(\"myPolicy\", CnnPolicy)\n",
    "from glob import glob"
   ]
  },
  {
   "cell_type": "code",
   "execution_count": 2,
   "id": "affiliated-engagement",
   "metadata": {},
   "outputs": [],
   "source": [
    "os.chdir('/vol1/idrl/idrl_env/mmd/idrl_mmd/')\n",
    "norm_models = sorted(glob('*norm*.zip'))\n",
    "models = sorted(glob('*.zip'))\n",
    "models = [model for model in models if model not in norm_models]"
   ]
  },
  {
   "cell_type": "code",
   "execution_count": 3,
   "id": "regional-prior",
   "metadata": {},
   "outputs": [],
   "source": [
    "from sklearn.datasets import load_svmlight_file\n",
    "from dqn import *\n",
    "import numpy as np\n",
    "from stable_baselines3 import DQN\n",
    "\n",
    "\n",
    "train = load_svmlight_file('data/mmd_mnist_torch')\n",
    "x, y = train\n",
    "x = x.todense()\n",
    "\n",
    "sortind = np.argsort(y)\n",
    "x = x[sortind, :]\n",
    "y = y[sortind]\n",
    "\n",
    "test = load_svmlight_file('data/mmd_mnist_torch.t')\n",
    "testx, testy = test\n",
    "testx = testx.todense()"
   ]
  },
  {
   "cell_type": "code",
   "execution_count": 33,
   "id": "recovered-soldier",
   "metadata": {},
   "outputs": [
    {
     "name": "stdout",
     "output_type": "stream",
     "text": [
      "dqn_cnn_mnist_100_tarun.zip\n"
     ]
    },
    {
     "data": {
      "application/vnd.jupyter.widget-view+json": {
       "model_id": "bfe20572f7c14633984d5eef03f6a309",
       "version_major": 2,
       "version_minor": 0
      },
      "text/plain": [
       "  0%|          | 0/10000 [00:00<?, ?it/s]"
      ]
     },
     "metadata": {},
     "output_type": "display_data"
    },
    {
     "name": "stdout",
     "output_type": "stream",
     "text": [
      "Accuracy: 18.50%\n",
      "dqn_cnn_mnist_10_tarun.zip\n"
     ]
    },
    {
     "data": {
      "application/vnd.jupyter.widget-view+json": {
       "model_id": "ea4eab81110349f2a68e74e0122863e8",
       "version_major": 2,
       "version_minor": 0
      },
      "text/plain": [
       "  0%|          | 0/10000 [00:00<?, ?it/s]"
      ]
     },
     "metadata": {},
     "output_type": "display_data"
    },
    {
     "name": "stdout",
     "output_type": "stream",
     "text": [
      "Accuracy: 30.57%\n",
      "dqn_cnn_mnist_1_tarun.zip\n"
     ]
    },
    {
     "data": {
      "application/vnd.jupyter.widget-view+json": {
       "model_id": "5aa00a4137fc4d30887afa63349cc5cf",
       "version_major": 2,
       "version_minor": 0
      },
      "text/plain": [
       "  0%|          | 0/10000 [00:00<?, ?it/s]"
      ]
     },
     "metadata": {},
     "output_type": "display_data"
    },
    {
     "name": "stdout",
     "output_type": "stream",
     "text": [
      "Accuracy: 70.06%\n",
      "dqn_cnn_mnist_25_tarun.zip\n"
     ]
    },
    {
     "data": {
      "application/vnd.jupyter.widget-view+json": {
       "model_id": "9c7be49e44094fa1ad54109ca226d8dc",
       "version_major": 2,
       "version_minor": 0
      },
      "text/plain": [
       "  0%|          | 0/10000 [00:00<?, ?it/s]"
      ]
     },
     "metadata": {},
     "output_type": "display_data"
    },
    {
     "name": "stdout",
     "output_type": "stream",
     "text": [
      "Accuracy: 21.20%\n",
      "dqn_cnn_mnist_50_tarun.zip\n"
     ]
    },
    {
     "data": {
      "application/vnd.jupyter.widget-view+json": {
       "model_id": "dadfcd636b7e49df9bf8b00f558d4f43",
       "version_major": 2,
       "version_minor": 0
      },
      "text/plain": [
       "  0%|          | 0/10000 [00:00<?, ?it/s]"
      ]
     },
     "metadata": {},
     "output_type": "display_data"
    },
    {
     "name": "stdout",
     "output_type": "stream",
     "text": [
      "Accuracy: 21.78%\n",
      "dqn_cnn_mnist_5_tarun.zip\n"
     ]
    },
    {
     "data": {
      "application/vnd.jupyter.widget-view+json": {
       "model_id": "03d5b695f889424289dfa7c125e2e51f",
       "version_major": 2,
       "version_minor": 0
      },
      "text/plain": [
       "  0%|          | 0/10000 [00:00<?, ?it/s]"
      ]
     },
     "metadata": {},
     "output_type": "display_data"
    },
    {
     "name": "stdout",
     "output_type": "stream",
     "text": [
      "Accuracy: 49.40%\n",
      "dqn_cnn_mnist_667_tarun.zip\n"
     ]
    },
    {
     "data": {
      "application/vnd.jupyter.widget-view+json": {
       "model_id": "e5a187a601484da1aff0430c9dafaa76",
       "version_major": 2,
       "version_minor": 0
      },
      "text/plain": [
       "  0%|          | 0/10000 [00:00<?, ?it/s]"
      ]
     },
     "metadata": {},
     "output_type": "display_data"
    },
    {
     "name": "stdout",
     "output_type": "stream",
     "text": [
      "Accuracy: 17.22%\n",
      "dqn_cnn_mnist_75_tarun.zip\n"
     ]
    },
    {
     "data": {
      "application/vnd.jupyter.widget-view+json": {
       "model_id": "66eb774a90964c178060669600b98e84",
       "version_major": 2,
       "version_minor": 0
      },
      "text/plain": [
       "  0%|          | 0/10000 [00:00<?, ?it/s]"
      ]
     },
     "metadata": {},
     "output_type": "display_data"
    },
    {
     "name": "stdout",
     "output_type": "stream",
     "text": [
      "Accuracy: 23.31%\n"
     ]
    }
   ],
   "source": [
    "width, height = 64, 64\n",
    "for model_name in models:\n",
    "    print(model_name)\n",
    "    model = DQN.load(model_name)\n",
    "    \n",
    "    total_rewards = 0\n",
    "    pred_y_test = []\n",
    "    count = 0\n",
    "\n",
    "    for idx in trange(len(testx)):\n",
    "        # Generate an evaluation observation frame.\n",
    "        obs = cv2.resize(np.array(testx[idx]).astype(np.float32), (width, height), interpolation = cv2.INTER_CUBIC)\n",
    "        obs = obs.reshape(width, height, 1)\n",
    "\n",
    "        # Predict an action based on the observation.\n",
    "        action, _states = model.predict(obs)\n",
    "        pred_y_test.append(action)\n",
    "\n",
    "\n",
    "        # Score the prediction.\n",
    "        if (action.size > 1):\n",
    "            # print(action)\n",
    "            count += 1\n",
    "            pass\n",
    "        else:\n",
    "            reward = 1 if action == testy[idx] else 0\n",
    "            total_rewards += reward\n",
    "\n",
    "    print('Accuracy: {:.2f}%'.format(total_rewards / (len(testy) - count) * 100.0))"
   ]
  },
  {
   "cell_type": "code",
   "execution_count": null,
   "id": "renewable-amateur",
   "metadata": {},
   "outputs": [
    {
     "name": "stdout",
     "output_type": "stream",
     "text": [
      "dqn_cnn_mnist_100_tarun.zip\n"
     ]
    },
    {
     "name": "stderr",
     "output_type": "stream",
     "text": [
      "/vol1/idrl/idrl_env/lib/python3.6/site-packages/torch/cuda/__init__.py:52: UserWarning: CUDA initialization: The NVIDIA driver on your system is too old (found version 10010). Please update your GPU driver by downloading and installing a new version from the URL: http://www.nvidia.com/Download/index.aspx Alternatively, go to: https://pytorch.org to install a PyTorch version that has been compiled with your version of the CUDA driver. (Triggered internally at  /pytorch/c10/cuda/CUDAFunctions.cpp:100.)\n",
      "  return torch._C._cuda_getDeviceCount() > 0\n"
     ]
    },
    {
     "data": {
      "application/vnd.jupyter.widget-view+json": {
       "model_id": "d6bc2c88d22b4788a67c0f7550b785c8",
       "version_major": 2,
       "version_minor": 0
      },
      "text/plain": [
       "  0%|          | 0/60000 [00:00<?, ?it/s]"
      ]
     },
     "metadata": {},
     "output_type": "display_data"
    }
   ],
   "source": [
    "width, height = 64, 64\n",
    "for model_name in models:\n",
    "    print(model_name)\n",
    "    model = DQN.load(model_name)\n",
    "    \n",
    "    total_rewards = 0\n",
    "    pred_y_test = []\n",
    "    count = 0\n",
    "\n",
    "    for idx in trange(len(x)):\n",
    "        # Generate an evaluation observation frame.\n",
    "        obs = cv2.resize(np.array(x[idx]).astype(np.float32), (width, height), interpolation = cv2.INTER_CUBIC)\n",
    "        obs = obs.reshape(width, height, 1)\n",
    "\n",
    "        # Predict an action based on the observation.\n",
    "        action, _states = model.predict(obs)\n",
    "        pred_y_test.append(action)\n",
    "\n",
    "\n",
    "        # Score the prediction.\n",
    "        if (action.size > 1):\n",
    "            # print(action)\n",
    "            count += 1\n",
    "            pass\n",
    "        else:\n",
    "            reward = 1 if action == y[idx] else 0\n",
    "            total_rewards += reward\n",
    "\n",
    "    print('Accuracy: {:.2f}%'.format(total_rewards / (len(y) - count) * 100.0))"
   ]
  },
  {
   "cell_type": "code",
   "execution_count": 17,
   "id": "moderate-operations",
   "metadata": {},
   "outputs": [
    {
     "name": "stdout",
     "output_type": "stream",
     "text": [
      "protos/protos_1500.npy\n",
      "Using cpu device\n",
      "Wrapping the env in a VecTransposeImage.\n",
      "----------------------------------\n",
      "| rollout/            |          |\n",
      "|    exploration rate | 0.05     |\n",
      "| time/               |          |\n",
      "|    episodes         | 4        |\n",
      "|    fps              | 8710     |\n",
      "|    time_elapsed     | 0        |\n",
      "|    total timesteps  | 6000     |\n",
      "| train/              |          |\n",
      "|    learning_rate    | 0.0001   |\n",
      "|    loss             | 0.19     |\n",
      "|    n_updates        | 2500     |\n",
      "----------------------------------\n",
      "----------------------------------\n",
      "| rollout/            |          |\n",
      "|    exploration rate | 0.05     |\n",
      "| time/               |          |\n",
      "|    episodes         | 8        |\n",
      "|    fps              | 8404     |\n",
      "|    time_elapsed     | 1        |\n",
      "|    total timesteps  | 12000    |\n",
      "----------------------------------\n",
      "----------------------------------\n",
      "| rollout/            |          |\n",
      "|    exploration rate | 0.05     |\n",
      "| time/               |          |\n",
      "|    episodes         | 12       |\n",
      "|    fps              | 8467     |\n",
      "|    time_elapsed     | 2        |\n",
      "|    total timesteps  | 18000    |\n",
      "----------------------------------\n",
      "----------------------------------\n",
      "| rollout/            |          |\n",
      "|    exploration rate | 0.05     |\n",
      "| time/               |          |\n",
      "|    episodes         | 16       |\n",
      "|    fps              | 8343     |\n",
      "|    time_elapsed     | 2        |\n",
      "|    total timesteps  | 24000    |\n",
      "----------------------------------\n",
      "----------------------------------\n",
      "| rollout/            |          |\n",
      "|    exploration rate | 0.05     |\n",
      "| time/               |          |\n",
      "|    episodes         | 20       |\n",
      "|    fps              | 8292     |\n",
      "|    time_elapsed     | 3        |\n",
      "|    total timesteps  | 30000    |\n",
      "----------------------------------\n",
      "----------------------------------\n",
      "| rollout/            |          |\n",
      "|    exploration rate | 0.05     |\n",
      "| time/               |          |\n",
      "|    episodes         | 24       |\n",
      "|    fps              | 8322     |\n",
      "|    time_elapsed     | 4        |\n",
      "|    total timesteps  | 36000    |\n",
      "----------------------------------\n",
      "----------------------------------\n",
      "| rollout/            |          |\n",
      "|    exploration rate | 0.05     |\n",
      "| time/               |          |\n",
      "|    episodes         | 28       |\n",
      "|    fps              | 8238     |\n",
      "|    time_elapsed     | 5        |\n",
      "|    total timesteps  | 42000    |\n",
      "----------------------------------\n",
      "----------------------------------\n",
      "| rollout/            |          |\n",
      "|    exploration rate | 0.05     |\n",
      "| time/               |          |\n",
      "|    episodes         | 32       |\n",
      "|    fps              | 8283     |\n",
      "|    time_elapsed     | 5        |\n",
      "|    total timesteps  | 48000    |\n",
      "----------------------------------\n",
      "----------------------------------\n",
      "| rollout/            |          |\n",
      "|    exploration rate | 0.05     |\n",
      "| time/               |          |\n",
      "|    episodes         | 36       |\n",
      "|    fps              | 1379     |\n",
      "|    time_elapsed     | 39       |\n",
      "|    total timesteps  | 54000    |\n",
      "| train/              |          |\n",
      "|    learning_rate    | 0.0001   |\n",
      "|    loss             | 0.0271   |\n",
      "|    n_updates        | 999      |\n",
      "----------------------------------\n",
      "----------------------------------\n",
      "| rollout/            |          |\n",
      "|    exploration rate | 0.05     |\n",
      "| time/               |          |\n",
      "|    episodes         | 40       |\n",
      "|    fps              | 683      |\n",
      "|    time_elapsed     | 87       |\n",
      "|    total timesteps  | 60000    |\n",
      "| train/              |          |\n",
      "|    learning_rate    | 0.0001   |\n",
      "|    loss             | 0.0488   |\n",
      "|    n_updates        | 2499     |\n",
      "----------------------------------\n"
     ]
    },
    {
     "data": {
      "application/vnd.jupyter.widget-view+json": {
       "model_id": "e8656fb5fc7f4d7d91ec092ed2d8c10a",
       "version_major": 2,
       "version_minor": 0
      },
      "text/plain": [
       "  0%|          | 0/10000 [00:00<?, ?it/s]"
      ]
     },
     "metadata": {},
     "output_type": "display_data"
    },
    {
     "name": "stdout",
     "output_type": "stream",
     "text": [
      "Accuracy: 71.97%\n",
      "=============== m=protos/protos_1500.npy error=28.02990418026745 ===============\n",
      "protos/protos_2000.npy\n",
      "Using cpu device\n",
      "Wrapping the env in a VecTransposeImage.\n",
      "----------------------------------\n",
      "| rollout/            |          |\n",
      "|    exploration rate | 0.05     |\n",
      "| time/               |          |\n",
      "|    episodes         | 4        |\n",
      "|    fps              | 10456    |\n",
      "|    time_elapsed     | 0        |\n",
      "|    total timesteps  | 8000     |\n",
      "| train/              |          |\n",
      "|    learning_rate    | 0.0001   |\n",
      "|    loss             | 0.387    |\n",
      "|    n_updates        | 2500     |\n",
      "----------------------------------\n",
      "----------------------------------\n",
      "| rollout/            |          |\n",
      "|    exploration rate | 0.05     |\n",
      "| time/               |          |\n",
      "|    episodes         | 8        |\n",
      "|    fps              | 10490    |\n",
      "|    time_elapsed     | 1        |\n",
      "|    total timesteps  | 16000    |\n",
      "----------------------------------\n",
      "----------------------------------\n",
      "| rollout/            |          |\n",
      "|    exploration rate | 0.05     |\n",
      "| time/               |          |\n",
      "|    episodes         | 12       |\n",
      "|    fps              | 10194    |\n",
      "|    time_elapsed     | 2        |\n",
      "|    total timesteps  | 24000    |\n",
      "----------------------------------\n",
      "----------------------------------\n",
      "| rollout/            |          |\n",
      "|    exploration rate | 0.05     |\n",
      "| time/               |          |\n",
      "|    episodes         | 16       |\n",
      "|    fps              | 10164    |\n",
      "|    time_elapsed     | 3        |\n",
      "|    total timesteps  | 32000    |\n",
      "----------------------------------\n",
      "----------------------------------\n",
      "| rollout/            |          |\n",
      "|    exploration rate | 0.05     |\n",
      "| time/               |          |\n",
      "|    episodes         | 20       |\n",
      "|    fps              | 9698     |\n",
      "|    time_elapsed     | 4        |\n",
      "|    total timesteps  | 40000    |\n",
      "----------------------------------\n",
      "----------------------------------\n",
      "| rollout/            |          |\n",
      "|    exploration rate | 0.05     |\n",
      "| time/               |          |\n",
      "|    episodes         | 24       |\n",
      "|    fps              | 9618     |\n",
      "|    time_elapsed     | 4        |\n",
      "|    total timesteps  | 48000    |\n",
      "----------------------------------\n",
      "----------------------------------\n",
      "| rollout/            |          |\n",
      "|    exploration rate | 0.05     |\n",
      "| time/               |          |\n",
      "|    episodes         | 28       |\n",
      "|    fps              | 1092     |\n",
      "|    time_elapsed     | 51       |\n",
      "|    total timesteps  | 56000    |\n",
      "| train/              |          |\n",
      "|    learning_rate    | 0.0001   |\n",
      "|    loss             | 0.0147   |\n",
      "|    n_updates        | 1499     |\n",
      "----------------------------------\n"
     ]
    },
    {
     "data": {
      "application/vnd.jupyter.widget-view+json": {
       "model_id": "534fab7798c34e0888e959ab17e28ae0",
       "version_major": 2,
       "version_minor": 0
      },
      "text/plain": [
       "  0%|          | 0/10000 [00:00<?, ?it/s]"
      ]
     },
     "metadata": {},
     "output_type": "display_data"
    },
    {
     "name": "stdout",
     "output_type": "stream",
     "text": [
      "Accuracy: 74.38%\n",
      "=============== m=protos/protos_2000.npy error=25.618877067312766 ===============\n",
      "protos/protos_3000.npy\n",
      "Using cpu device\n",
      "Wrapping the env in a VecTransposeImage.\n",
      "----------------------------------\n",
      "| rollout/            |          |\n",
      "|    exploration rate | 0.05     |\n",
      "| time/               |          |\n",
      "|    episodes         | 4        |\n",
      "|    fps              | 9860     |\n",
      "|    time_elapsed     | 1        |\n",
      "|    total timesteps  | 12000    |\n",
      "| train/              |          |\n",
      "|    learning_rate    | 0.0001   |\n",
      "|    loss             | 0.369    |\n",
      "|    n_updates        | 2500     |\n",
      "----------------------------------\n",
      "----------------------------------\n",
      "| rollout/            |          |\n",
      "|    exploration rate | 0.05     |\n",
      "| time/               |          |\n",
      "|    episodes         | 8        |\n",
      "|    fps              | 9231     |\n",
      "|    time_elapsed     | 2        |\n",
      "|    total timesteps  | 24000    |\n",
      "----------------------------------\n",
      "----------------------------------\n",
      "| rollout/            |          |\n",
      "|    exploration rate | 0.05     |\n",
      "| time/               |          |\n",
      "|    episodes         | 12       |\n",
      "|    fps              | 8854     |\n",
      "|    time_elapsed     | 4        |\n",
      "|    total timesteps  | 36000    |\n",
      "----------------------------------\n",
      "----------------------------------\n",
      "| rollout/            |          |\n",
      "|    exploration rate | 0.05     |\n",
      "| time/               |          |\n",
      "|    episodes         | 16       |\n",
      "|    fps              | 8905     |\n",
      "|    time_elapsed     | 5        |\n",
      "|    total timesteps  | 48000    |\n",
      "----------------------------------\n",
      "----------------------------------\n",
      "| rollout/            |          |\n",
      "|    exploration rate | 0.05     |\n",
      "| time/               |          |\n",
      "|    episodes         | 20       |\n",
      "|    fps              | 710      |\n",
      "|    time_elapsed     | 84       |\n",
      "|    total timesteps  | 60000    |\n",
      "| train/              |          |\n",
      "|    learning_rate    | 0.0001   |\n",
      "|    loss             | 0.0215   |\n",
      "|    n_updates        | 2499     |\n",
      "----------------------------------\n"
     ]
    },
    {
     "data": {
      "application/vnd.jupyter.widget-view+json": {
       "model_id": "ca57140943a04b45b46ba841f4c74a0d",
       "version_major": 2,
       "version_minor": 0
      },
      "text/plain": [
       "  0%|          | 0/10000 [00:00<?, ?it/s]"
      ]
     },
     "metadata": {},
     "output_type": "display_data"
    },
    {
     "name": "stdout",
     "output_type": "stream",
     "text": [
      "Accuracy: 75.02%\n",
      "=============== m=protos/protos_3000.npy error=24.97898276586801 ===============\n",
      "protos/protos_4500.npy\n",
      "Using cpu device\n",
      "Wrapping the env in a VecTransposeImage.\n",
      "----------------------------------\n",
      "| rollout/            |          |\n",
      "|    exploration rate | 0.05     |\n",
      "| time/               |          |\n",
      "|    episodes         | 4        |\n",
      "|    fps              | 9342     |\n",
      "|    time_elapsed     | 1        |\n",
      "|    total timesteps  | 18000    |\n",
      "| train/              |          |\n",
      "|    learning_rate    | 0.0001   |\n",
      "|    loss             | 0.284    |\n",
      "|    n_updates        | 2500     |\n",
      "----------------------------------\n",
      "----------------------------------\n",
      "| rollout/            |          |\n",
      "|    exploration rate | 0.05     |\n",
      "| time/               |          |\n",
      "|    episodes         | 8        |\n",
      "|    fps              | 9172     |\n",
      "|    time_elapsed     | 3        |\n",
      "|    total timesteps  | 36000    |\n",
      "----------------------------------\n",
      "----------------------------------\n",
      "| rollout/            |          |\n",
      "|    exploration rate | 0.05     |\n",
      "| time/               |          |\n",
      "|    episodes         | 12       |\n",
      "|    fps              | 1443     |\n",
      "|    time_elapsed     | 37       |\n",
      "|    total timesteps  | 54000    |\n",
      "| train/              |          |\n",
      "|    learning_rate    | 0.0001   |\n",
      "|    loss             | 0.0185   |\n",
      "|    n_updates        | 999      |\n",
      "----------------------------------\n"
     ]
    },
    {
     "data": {
      "application/vnd.jupyter.widget-view+json": {
       "model_id": "870e3ea87cd24a53909be633562654a7",
       "version_major": 2,
       "version_minor": 0
      },
      "text/plain": [
       "  0%|          | 0/10000 [00:00<?, ?it/s]"
      ]
     },
     "metadata": {},
     "output_type": "display_data"
    },
    {
     "name": "stdout",
     "output_type": "stream",
     "text": [
      "Accuracy: 72.51%\n",
      "=============== m=protos/protos_4500.npy error=27.485503426462827 ===============\n",
      "protos/protos_6000.npy\n",
      "Using cpu device\n",
      "Wrapping the env in a VecTransposeImage.\n",
      "----------------------------------\n",
      "| rollout/            |          |\n",
      "|    exploration rate | 0.05     |\n",
      "| time/               |          |\n",
      "|    episodes         | 4        |\n",
      "|    fps              | 9662     |\n",
      "|    time_elapsed     | 2        |\n",
      "|    total timesteps  | 24000    |\n",
      "| train/              |          |\n",
      "|    learning_rate    | 0.0001   |\n",
      "|    loss             | 0.258    |\n",
      "|    n_updates        | 2500     |\n",
      "----------------------------------\n",
      "----------------------------------\n",
      "| rollout/            |          |\n",
      "|    exploration rate | 0.05     |\n",
      "| time/               |          |\n",
      "|    episodes         | 8        |\n",
      "|    fps              | 9018     |\n",
      "|    time_elapsed     | 5        |\n",
      "|    total timesteps  | 48000    |\n",
      "----------------------------------\n"
     ]
    },
    {
     "data": {
      "application/vnd.jupyter.widget-view+json": {
       "model_id": "9c8f44d9dbe548cebfdf63163f5533aa",
       "version_major": 2,
       "version_minor": 0
      },
      "text/plain": [
       "  0%|          | 0/10000 [00:00<?, ?it/s]"
      ]
     },
     "metadata": {},
     "output_type": "display_data"
    },
    {
     "name": "stdout",
     "output_type": "stream",
     "text": [
      "Accuracy: 75.25%\n",
      "=============== m=protos/protos_6000.npy error=24.74923450533207 ===============\n",
      "critics/crits_1500.npy\n",
      "Using cpu device\n",
      "Wrapping the env in a VecTransposeImage.\n",
      "----------------------------------\n",
      "| rollout/            |          |\n",
      "|    exploration rate | 0.05     |\n",
      "| time/               |          |\n",
      "|    episodes         | 4        |\n",
      "|    fps              | 10488    |\n",
      "|    time_elapsed     | 0        |\n",
      "|    total timesteps  | 6000     |\n",
      "| train/              |          |\n",
      "|    learning_rate    | 0.0001   |\n",
      "|    loss             | 0.25     |\n",
      "|    n_updates        | 2500     |\n",
      "----------------------------------\n",
      "----------------------------------\n",
      "| rollout/            |          |\n",
      "|    exploration rate | 0.05     |\n",
      "| time/               |          |\n",
      "|    episodes         | 8        |\n",
      "|    fps              | 9987     |\n",
      "|    time_elapsed     | 1        |\n",
      "|    total timesteps  | 12000    |\n",
      "----------------------------------\n",
      "----------------------------------\n",
      "| rollout/            |          |\n",
      "|    exploration rate | 0.05     |\n",
      "| time/               |          |\n",
      "|    episodes         | 12       |\n",
      "|    fps              | 10091    |\n",
      "|    time_elapsed     | 1        |\n",
      "|    total timesteps  | 18000    |\n",
      "----------------------------------\n",
      "----------------------------------\n",
      "| rollout/            |          |\n",
      "|    exploration rate | 0.05     |\n",
      "| time/               |          |\n",
      "|    episodes         | 16       |\n",
      "|    fps              | 9731     |\n",
      "|    time_elapsed     | 2        |\n",
      "|    total timesteps  | 24000    |\n",
      "----------------------------------\n",
      "----------------------------------\n",
      "| rollout/            |          |\n",
      "|    exploration rate | 0.05     |\n",
      "| time/               |          |\n",
      "|    episodes         | 20       |\n",
      "|    fps              | 9408     |\n",
      "|    time_elapsed     | 3        |\n",
      "|    total timesteps  | 30000    |\n",
      "----------------------------------\n",
      "----------------------------------\n",
      "| rollout/            |          |\n",
      "|    exploration rate | 0.05     |\n",
      "| time/               |          |\n",
      "|    episodes         | 24       |\n",
      "|    fps              | 9240     |\n",
      "|    time_elapsed     | 3        |\n",
      "|    total timesteps  | 36000    |\n",
      "----------------------------------\n",
      "----------------------------------\n",
      "| rollout/            |          |\n",
      "|    exploration rate | 0.05     |\n",
      "| time/               |          |\n",
      "|    episodes         | 28       |\n",
      "|    fps              | 9093     |\n",
      "|    time_elapsed     | 4        |\n",
      "|    total timesteps  | 42000    |\n",
      "----------------------------------\n",
      "----------------------------------\n",
      "| rollout/            |          |\n",
      "|    exploration rate | 0.05     |\n",
      "| time/               |          |\n",
      "|    episodes         | 32       |\n",
      "|    fps              | 9066     |\n",
      "|    time_elapsed     | 5        |\n",
      "|    total timesteps  | 48000    |\n",
      "----------------------------------\n",
      "----------------------------------\n",
      "| rollout/            |          |\n",
      "|    exploration rate | 0.05     |\n",
      "| time/               |          |\n",
      "|    episodes         | 36       |\n",
      "|    fps              | 1594     |\n",
      "|    time_elapsed     | 33       |\n",
      "|    total timesteps  | 54000    |\n",
      "| train/              |          |\n",
      "|    learning_rate    | 0.0001   |\n",
      "|    loss             | 0.0281   |\n",
      "|    n_updates        | 999      |\n",
      "----------------------------------\n",
      "----------------------------------\n",
      "| rollout/            |          |\n",
      "|    exploration rate | 0.05     |\n",
      "| time/               |          |\n",
      "|    episodes         | 40       |\n",
      "|    fps              | 728      |\n",
      "|    time_elapsed     | 82       |\n",
      "|    total timesteps  | 60000    |\n",
      "| train/              |          |\n",
      "|    learning_rate    | 0.0001   |\n",
      "|    loss             | 0.0375   |\n",
      "|    n_updates        | 2499     |\n",
      "----------------------------------\n"
     ]
    },
    {
     "data": {
      "application/vnd.jupyter.widget-view+json": {
       "model_id": "7df118331bf0451fbc851bdbf184a905",
       "version_major": 2,
       "version_minor": 0
      },
      "text/plain": [
       "  0%|          | 0/10000 [00:00<?, ?it/s]"
      ]
     },
     "metadata": {},
     "output_type": "display_data"
    },
    {
     "name": "stdout",
     "output_type": "stream",
     "text": [
      "Accuracy: 50.46%\n",
      "=============== m=critics/crits_1500.npy error=49.54157445463168 ===============\n",
      "critics/crits_2000.npy\n",
      "Using cpu device\n",
      "Wrapping the env in a VecTransposeImage.\n",
      "----------------------------------\n",
      "| rollout/            |          |\n",
      "|    exploration rate | 0.05     |\n",
      "| time/               |          |\n",
      "|    episodes         | 4        |\n",
      "|    fps              | 10470    |\n",
      "|    time_elapsed     | 0        |\n",
      "|    total timesteps  | 8000     |\n",
      "| train/              |          |\n",
      "|    learning_rate    | 0.0001   |\n",
      "|    loss             | 0.137    |\n",
      "|    n_updates        | 2500     |\n",
      "----------------------------------\n",
      "----------------------------------\n",
      "| rollout/            |          |\n",
      "|    exploration rate | 0.05     |\n",
      "| time/               |          |\n",
      "|    episodes         | 8        |\n",
      "|    fps              | 10213    |\n",
      "|    time_elapsed     | 1        |\n",
      "|    total timesteps  | 16000    |\n",
      "----------------------------------\n",
      "----------------------------------\n",
      "| rollout/            |          |\n",
      "|    exploration rate | 0.05     |\n",
      "| time/               |          |\n",
      "|    episodes         | 12       |\n",
      "|    fps              | 10010    |\n",
      "|    time_elapsed     | 2        |\n",
      "|    total timesteps  | 24000    |\n",
      "----------------------------------\n",
      "----------------------------------\n",
      "| rollout/            |          |\n",
      "|    exploration rate | 0.05     |\n",
      "| time/               |          |\n",
      "|    episodes         | 16       |\n",
      "|    fps              | 9461     |\n",
      "|    time_elapsed     | 3        |\n",
      "|    total timesteps  | 32000    |\n",
      "----------------------------------\n",
      "----------------------------------\n",
      "| rollout/            |          |\n",
      "|    exploration rate | 0.05     |\n",
      "| time/               |          |\n",
      "|    episodes         | 20       |\n",
      "|    fps              | 9247     |\n",
      "|    time_elapsed     | 4        |\n",
      "|    total timesteps  | 40000    |\n",
      "----------------------------------\n",
      "----------------------------------\n",
      "| rollout/            |          |\n",
      "|    exploration rate | 0.05     |\n",
      "| time/               |          |\n",
      "|    episodes         | 24       |\n",
      "|    fps              | 9153     |\n",
      "|    time_elapsed     | 5        |\n",
      "|    total timesteps  | 48000    |\n",
      "----------------------------------\n",
      "----------------------------------\n",
      "| rollout/            |          |\n",
      "|    exploration rate | 0.05     |\n",
      "| time/               |          |\n",
      "|    episodes         | 28       |\n",
      "|    fps              | 1064     |\n",
      "|    time_elapsed     | 52       |\n",
      "|    total timesteps  | 56000    |\n",
      "| train/              |          |\n",
      "|    learning_rate    | 0.0001   |\n",
      "|    loss             | 0.0343   |\n",
      "|    n_updates        | 1499     |\n",
      "----------------------------------\n"
     ]
    },
    {
     "data": {
      "application/vnd.jupyter.widget-view+json": {
       "model_id": "898003f6ed0748e28285c112ad31a868",
       "version_major": 2,
       "version_minor": 0
      },
      "text/plain": [
       "  0%|          | 0/10000 [00:00<?, ?it/s]"
      ]
     },
     "metadata": {},
     "output_type": "display_data"
    },
    {
     "name": "stdout",
     "output_type": "stream",
     "text": [
      "Accuracy: 55.00%\n",
      "=============== m=critics/crits_2000.npy error=44.99842221520984 ===============\n",
      "critics/crits_3000.npy\n",
      "Using cpu device\n",
      "Wrapping the env in a VecTransposeImage.\n",
      "----------------------------------\n",
      "| rollout/            |          |\n",
      "|    exploration rate | 0.05     |\n",
      "| time/               |          |\n",
      "|    episodes         | 4        |\n",
      "|    fps              | 10053    |\n",
      "|    time_elapsed     | 1        |\n",
      "|    total timesteps  | 12000    |\n",
      "| train/              |          |\n",
      "|    learning_rate    | 0.0001   |\n",
      "|    loss             | 0.146    |\n",
      "|    n_updates        | 2500     |\n",
      "----------------------------------\n",
      "----------------------------------\n",
      "| rollout/            |          |\n",
      "|    exploration rate | 0.05     |\n",
      "| time/               |          |\n",
      "|    episodes         | 8        |\n",
      "|    fps              | 9849     |\n",
      "|    time_elapsed     | 2        |\n",
      "|    total timesteps  | 24000    |\n",
      "----------------------------------\n",
      "----------------------------------\n",
      "| rollout/            |          |\n",
      "|    exploration rate | 0.05     |\n",
      "| time/               |          |\n",
      "|    episodes         | 12       |\n",
      "|    fps              | 9404     |\n",
      "|    time_elapsed     | 3        |\n",
      "|    total timesteps  | 36000    |\n",
      "----------------------------------\n",
      "----------------------------------\n",
      "| rollout/            |          |\n",
      "|    exploration rate | 0.05     |\n",
      "| time/               |          |\n",
      "|    episodes         | 16       |\n",
      "|    fps              | 9108     |\n",
      "|    time_elapsed     | 5        |\n",
      "|    total timesteps  | 48000    |\n",
      "----------------------------------\n",
      "----------------------------------\n",
      "| rollout/            |          |\n",
      "|    exploration rate | 0.05     |\n",
      "| time/               |          |\n",
      "|    episodes         | 20       |\n",
      "|    fps              | 685      |\n",
      "|    time_elapsed     | 87       |\n",
      "|    total timesteps  | 60000    |\n",
      "| train/              |          |\n",
      "|    learning_rate    | 0.0001   |\n",
      "|    loss             | 0.0598   |\n",
      "|    n_updates        | 2499     |\n",
      "----------------------------------\n"
     ]
    },
    {
     "data": {
      "application/vnd.jupyter.widget-view+json": {
       "model_id": "8994dd680d224ab2a4240890ef041403",
       "version_major": 2,
       "version_minor": 0
      },
      "text/plain": [
       "  0%|          | 0/10000 [00:00<?, ?it/s]"
      ]
     },
     "metadata": {},
     "output_type": "display_data"
    },
    {
     "name": "stdout",
     "output_type": "stream",
     "text": [
      "Accuracy: 58.65%\n",
      "=============== m=critics/crits_3000.npy error=41.35021097046413 ===============\n",
      "critics/crits_4500.npy\n",
      "Using cpu device\n",
      "Wrapping the env in a VecTransposeImage.\n",
      "----------------------------------\n",
      "| rollout/            |          |\n",
      "|    exploration rate | 0.05     |\n",
      "| time/               |          |\n",
      "|    episodes         | 4        |\n",
      "|    fps              | 9891     |\n",
      "|    time_elapsed     | 1        |\n",
      "|    total timesteps  | 18000    |\n",
      "| train/              |          |\n",
      "|    learning_rate    | 0.0001   |\n",
      "|    loss             | 0.184    |\n",
      "|    n_updates        | 2500     |\n",
      "----------------------------------\n",
      "----------------------------------\n",
      "| rollout/            |          |\n",
      "|    exploration rate | 0.05     |\n",
      "| time/               |          |\n",
      "|    episodes         | 8        |\n",
      "|    fps              | 9289     |\n",
      "|    time_elapsed     | 3        |\n",
      "|    total timesteps  | 36000    |\n",
      "----------------------------------\n",
      "----------------------------------\n",
      "| rollout/            |          |\n",
      "|    exploration rate | 0.05     |\n",
      "| time/               |          |\n",
      "|    episodes         | 12       |\n",
      "|    fps              | 1439     |\n",
      "|    time_elapsed     | 37       |\n",
      "|    total timesteps  | 54000    |\n",
      "| train/              |          |\n",
      "|    learning_rate    | 0.0001   |\n",
      "|    loss             | 0.0165   |\n",
      "|    n_updates        | 999      |\n",
      "----------------------------------\n"
     ]
    },
    {
     "data": {
      "application/vnd.jupyter.widget-view+json": {
       "model_id": "be5ad7a8128444a5b24a6618822bb42c",
       "version_major": 2,
       "version_minor": 0
      },
      "text/plain": [
       "  0%|          | 0/10000 [00:00<?, ?it/s]"
      ]
     },
     "metadata": {},
     "output_type": "display_data"
    },
    {
     "name": "stdout",
     "output_type": "stream",
     "text": [
      "Accuracy: 59.19%\n",
      "=============== m=critics/crits_4500.npy error=40.81138040042149 ===============\n",
      "critics/crits_6000.npy\n",
      "Using cpu device\n",
      "Wrapping the env in a VecTransposeImage.\n",
      "----------------------------------\n",
      "| rollout/            |          |\n",
      "|    exploration rate | 0.05     |\n",
      "| time/               |          |\n",
      "|    episodes         | 4        |\n",
      "|    fps              | 9003     |\n",
      "|    time_elapsed     | 2        |\n",
      "|    total timesteps  | 24000    |\n",
      "| train/              |          |\n",
      "|    learning_rate    | 0.0001   |\n",
      "|    loss             | 0.141    |\n",
      "|    n_updates        | 2500     |\n",
      "----------------------------------\n",
      "----------------------------------\n",
      "| rollout/            |          |\n",
      "|    exploration rate | 0.05     |\n",
      "| time/               |          |\n",
      "|    episodes         | 8        |\n",
      "|    fps              | 9086     |\n",
      "|    time_elapsed     | 5        |\n",
      "|    total timesteps  | 48000    |\n",
      "----------------------------------\n"
     ]
    },
    {
     "data": {
      "application/vnd.jupyter.widget-view+json": {
       "model_id": "0464b46c2b1c4a4bb420ee98c3949f95",
       "version_major": 2,
       "version_minor": 0
      },
      "text/plain": [
       "  0%|          | 0/10000 [00:00<?, ?it/s]"
      ]
     },
     "metadata": {},
     "output_type": "display_data"
    },
    {
     "name": "stdout",
     "output_type": "stream",
     "text": [
      "Accuracy: 60.18%\n",
      "=============== m=critics/crits_6000.npy error=39.81695771091942 ===============\n",
      "combined/combined_1500.npy\n",
      "Using cpu device\n",
      "Wrapping the env in a VecTransposeImage.\n",
      "----------------------------------\n",
      "| rollout/            |          |\n",
      "|    exploration rate | 0.05     |\n",
      "| time/               |          |\n",
      "|    episodes         | 4        |\n",
      "|    fps              | 10046    |\n",
      "|    time_elapsed     | 1        |\n",
      "|    total timesteps  | 12000    |\n",
      "| train/              |          |\n",
      "|    learning_rate    | 0.0001   |\n",
      "|    loss             | 0.196    |\n",
      "|    n_updates        | 2500     |\n",
      "----------------------------------\n",
      "----------------------------------\n",
      "| rollout/            |          |\n",
      "|    exploration rate | 0.05     |\n",
      "| time/               |          |\n",
      "|    episodes         | 8        |\n",
      "|    fps              | 9873     |\n",
      "|    time_elapsed     | 2        |\n",
      "|    total timesteps  | 24000    |\n",
      "----------------------------------\n",
      "----------------------------------\n",
      "| rollout/            |          |\n",
      "|    exploration rate | 0.05     |\n",
      "| time/               |          |\n",
      "|    episodes         | 12       |\n",
      "|    fps              | 9336     |\n",
      "|    time_elapsed     | 3        |\n",
      "|    total timesteps  | 36000    |\n",
      "----------------------------------\n",
      "----------------------------------\n",
      "| rollout/            |          |\n",
      "|    exploration rate | 0.05     |\n",
      "| time/               |          |\n",
      "|    episodes         | 16       |\n",
      "|    fps              | 9260     |\n",
      "|    time_elapsed     | 5        |\n",
      "|    total timesteps  | 48000    |\n",
      "----------------------------------\n",
      "----------------------------------\n",
      "| rollout/            |          |\n",
      "|    exploration rate | 0.05     |\n",
      "| time/               |          |\n",
      "|    episodes         | 20       |\n",
      "|    fps              | 720      |\n",
      "|    time_elapsed     | 83       |\n",
      "|    total timesteps  | 60000    |\n",
      "| train/              |          |\n",
      "|    learning_rate    | 0.0001   |\n",
      "|    loss             | 0.0159   |\n",
      "|    n_updates        | 2499     |\n",
      "----------------------------------\n"
     ]
    },
    {
     "data": {
      "application/vnd.jupyter.widget-view+json": {
       "model_id": "032fdf28fd884f068d85ed1a513a989d",
       "version_major": 2,
       "version_minor": 0
      },
      "text/plain": [
       "  0%|          | 0/10000 [00:00<?, ?it/s]"
      ]
     },
     "metadata": {},
     "output_type": "display_data"
    },
    {
     "name": "stdout",
     "output_type": "stream",
     "text": [
      "Accuracy: 70.06%\n",
      "=============== m=combined/combined_1500.npy error=29.944216398273866 ===============\n",
      "combined/combined_2000.npy\n",
      "Using cpu device\n",
      "Wrapping the env in a VecTransposeImage.\n",
      "----------------------------------\n",
      "| rollout/            |          |\n",
      "|    exploration rate | 0.05     |\n",
      "| time/               |          |\n",
      "|    episodes         | 4        |\n",
      "|    fps              | 10120    |\n",
      "|    time_elapsed     | 1        |\n",
      "|    total timesteps  | 16000    |\n",
      "| train/              |          |\n",
      "|    learning_rate    | 0.0001   |\n",
      "|    loss             | 0.247    |\n",
      "|    n_updates        | 2500     |\n",
      "----------------------------------\n",
      "----------------------------------\n",
      "| rollout/            |          |\n",
      "|    exploration rate | 0.05     |\n",
      "| time/               |          |\n",
      "|    episodes         | 8        |\n",
      "|    fps              | 9214     |\n",
      "|    time_elapsed     | 3        |\n",
      "|    total timesteps  | 32000    |\n",
      "----------------------------------\n",
      "----------------------------------\n",
      "| rollout/            |          |\n",
      "|    exploration rate | 0.05     |\n",
      "| time/               |          |\n",
      "|    episodes         | 12       |\n",
      "|    fps              | 9222     |\n",
      "|    time_elapsed     | 5        |\n",
      "|    total timesteps  | 48000    |\n",
      "----------------------------------\n"
     ]
    },
    {
     "data": {
      "application/vnd.jupyter.widget-view+json": {
       "model_id": "45f7df3f191c43b0a9d4a2f308d374c9",
       "version_major": 2,
       "version_minor": 0
      },
      "text/plain": [
       "  0%|          | 0/10000 [00:00<?, ?it/s]"
      ]
     },
     "metadata": {},
     "output_type": "display_data"
    },
    {
     "name": "stdout",
     "output_type": "stream",
     "text": [
      "Accuracy: 73.29%\n",
      "=============== m=combined/combined_2000.npy error=26.708074534161483 ===============\n",
      "combined/combined_3000.npy\n",
      "Using cpu device\n",
      "Wrapping the env in a VecTransposeImage.\n",
      "----------------------------------\n",
      "| rollout/            |          |\n",
      "|    exploration rate | 0.05     |\n",
      "| time/               |          |\n",
      "|    episodes         | 4        |\n",
      "|    fps              | 8941     |\n",
      "|    time_elapsed     | 2        |\n",
      "|    total timesteps  | 24000    |\n",
      "| train/              |          |\n",
      "|    learning_rate    | 0.0001   |\n",
      "|    loss             | 0.165    |\n",
      "|    n_updates        | 2500     |\n",
      "----------------------------------\n",
      "----------------------------------\n",
      "| rollout/            |          |\n",
      "|    exploration rate | 0.05     |\n",
      "| time/               |          |\n",
      "|    episodes         | 8        |\n",
      "|    fps              | 9042     |\n",
      "|    time_elapsed     | 5        |\n",
      "|    total timesteps  | 48000    |\n",
      "----------------------------------\n"
     ]
    },
    {
     "data": {
      "application/vnd.jupyter.widget-view+json": {
       "model_id": "f893c7ea4f86480184b5fa1c7768e024",
       "version_major": 2,
       "version_minor": 0
      },
      "text/plain": [
       "  0%|          | 0/10000 [00:00<?, ?it/s]"
      ]
     },
     "metadata": {},
     "output_type": "display_data"
    },
    {
     "name": "stdout",
     "output_type": "stream",
     "text": [
      "Accuracy: 70.47%\n",
      "=============== m=combined/combined_3000.npy error=29.528222409435557 ===============\n",
      "combined/combined_4500.npy\n",
      "Using cpu device\n",
      "Wrapping the env in a VecTransposeImage.\n",
      "----------------------------------\n",
      "| rollout/            |          |\n",
      "|    exploration rate | 0.05     |\n",
      "| time/               |          |\n",
      "|    episodes         | 4        |\n",
      "|    fps              | 9166     |\n",
      "|    time_elapsed     | 3        |\n",
      "|    total timesteps  | 36000    |\n",
      "| train/              |          |\n",
      "|    learning_rate    | 0.0001   |\n",
      "|    loss             | 0.129    |\n",
      "|    n_updates        | 2500     |\n",
      "----------------------------------\n"
     ]
    },
    {
     "data": {
      "application/vnd.jupyter.widget-view+json": {
       "model_id": "16a8e70c1eb742b092350c62dccb4c2d",
       "version_major": 2,
       "version_minor": 0
      },
      "text/plain": [
       "  0%|          | 0/10000 [00:00<?, ?it/s]"
      ]
     },
     "metadata": {},
     "output_type": "display_data"
    },
    {
     "name": "stdout",
     "output_type": "stream",
     "text": [
      "Accuracy: 74.09%\n",
      "=============== m=combined/combined_4500.npy error=25.91386554621849 ===============\n",
      "combined/combined_6000.npy\n",
      "Using cpu device\n",
      "Wrapping the env in a VecTransposeImage.\n",
      "----------------------------------\n",
      "| rollout/            |          |\n",
      "|    exploration rate | 0.05     |\n",
      "| time/               |          |\n",
      "|    episodes         | 4        |\n",
      "|    fps              | 9359     |\n",
      "|    time_elapsed     | 5        |\n",
      "|    total timesteps  | 48000    |\n",
      "| train/              |          |\n",
      "|    learning_rate    | 0.0001   |\n",
      "|    loss             | 0.179    |\n",
      "|    n_updates        | 2500     |\n",
      "----------------------------------\n"
     ]
    },
    {
     "data": {
      "application/vnd.jupyter.widget-view+json": {
       "model_id": "94902e3337c24a55bf5ff0b610a5daa4",
       "version_major": 2,
       "version_minor": 0
      },
      "text/plain": [
       "  0%|          | 0/10000 [00:00<?, ?it/s]"
      ]
     },
     "metadata": {},
     "output_type": "display_data"
    },
    {
     "name": "stdout",
     "output_type": "stream",
     "text": [
      "Accuracy: 73.42%\n",
      "=============== m=combined/combined_6000.npy error=26.580550304557875 ===============\n"
     ]
    }
   ],
   "source": [
    "protos = sorted(glob('protos/*'))\n",
    "critics = sorted(glob('critics/*'))\n",
    "combined = sorted(glob('combined/*'))\n",
    "\n",
    "epochs = 1\n",
    "\n",
    "for testm in protos:\n",
    "    print(testm)\n",
    "    selected = np.load(testm)\n",
    "#     print(selected)\n",
    "\n",
    "    data_indices = random.sample(range(0, 60000), testm)\n",
    "\n",
    "    env = DummyVecEnv([lambda: USPSGym(width=64, height=64, channels=1, dataset=(x[selected[data_indices], :], y[selected[data_indices]]))])\n",
    "#     env = DummyVecEnv([lambda: USPSGym(width=64, height=64, channels=1, dataset=(x[selected, :], y[selected]))])\n",
    "\n",
    "    # Grab the observation shape for generating evaluation frames.\n",
    "    width, height = env.observation_space.shape[0], env.observation_space.shape[1]\n",
    "\n",
    "    test_model = DQN(CnnPolicy, env, verbose=1)\n",
    "\n",
    "    test_model.learn(total_timesteps=len(x) * epochs)\n",
    "    \n",
    "    test_model.save('./models/without_norm_{}_{}.zip'.format(testm, epochs))\n",
    "\n",
    "    accuracy = eval(test_model, testx, testy)\n",
    "\n",
    "    error = 100 - accuracy\n",
    "    print(\"=============== m={} error={} ===============\".format(testm, error))\n",
    "#     break\n",
    "\n",
    "for testm in critics:\n",
    "    print(testm)\n",
    "    selected = np.load(testm)\n",
    "#     print(selected)\n",
    "    env = DummyVecEnv([lambda: USPSGym(width=64, height=64, channels=1, dataset=(x[selected, :], y[selected]))])\n",
    "\n",
    "    # Grab the observation shape for generating evaluation frames.\n",
    "    width, height = env.observation_space.shape[0], env.observation_space.shape[1]\n",
    "\n",
    "    test_model = DQN(CnnPolicy, env, verbose=1)\n",
    "\n",
    "    test_model.learn(total_timesteps=len(x) * epochs)\n",
    "    \n",
    "    test_model.save('./models/without_norm_{}_{}.zip'.format(testm, epochs))\n",
    "\n",
    "    accuracy = eval(test_model, testx, testy)\n",
    "\n",
    "    error = 100 - accuracy\n",
    "    print(\"=============== m={} error={} ===============\".format(testm, error))\n",
    "#     break\n",
    "\n",
    "for testm in combined:\n",
    "    print(testm)\n",
    "    selected = np.load(testm)\n",
    "#     print(selected)\n",
    "    env = DummyVecEnv([lambda: USPSGym(width=64, height=64, channels=1, dataset=(x[selected, :], y[selected]))])\n",
    "\n",
    "    # Grab the observation shape for generating evaluation frames.\n",
    "    width, height = env.observation_space.shape[0], env.observation_space.shape[1]\n",
    "\n",
    "    test_model = DQN(CnnPolicy, env, verbose=1)\n",
    "\n",
    "    test_model.learn(total_timesteps=len(x) * epochs)\n",
    "    \n",
    "    test_model.save('./models/without_norm_{}_{}.zip'.format(testm, epochs))\n",
    "\n",
    "    accuracy = eval(test_model, testx, testy)\n",
    "\n",
    "    error = 100 - accuracy\n",
    "    print(\"=============== m={} error={} ===============\".format(testm, error))\n",
    "#     break"
   ]
  },
  {
   "cell_type": "code",
   "execution_count": 20,
   "id": "rolled-measurement",
   "metadata": {},
   "outputs": [
    {
     "name": "stdout",
     "output_type": "stream",
     "text": [
      "Using cpu device\n",
      "Wrapping the env in a VecTransposeImage.\n",
      "----------------------------------\n",
      "| rollout/            |          |\n",
      "|    exploration rate | 0.05     |\n",
      "| time/               |          |\n",
      "|    episodes         | 4        |\n",
      "|    fps              | 8845     |\n",
      "|    time_elapsed     | 0        |\n",
      "|    total timesteps  | 8000     |\n",
      "| train/              |          |\n",
      "|    learning_rate    | 0.0001   |\n",
      "|    loss             | 0.266    |\n",
      "|    n_updates        | 2500     |\n",
      "----------------------------------\n",
      "----------------------------------\n",
      "| rollout/            |          |\n",
      "|    exploration rate | 0.05     |\n",
      "| time/               |          |\n",
      "|    episodes         | 8        |\n",
      "|    fps              | 9175     |\n",
      "|    time_elapsed     | 1        |\n",
      "|    total timesteps  | 16000    |\n",
      "----------------------------------\n",
      "----------------------------------\n",
      "| rollout/            |          |\n",
      "|    exploration rate | 0.05     |\n",
      "| time/               |          |\n",
      "|    episodes         | 12       |\n",
      "|    fps              | 8887     |\n",
      "|    time_elapsed     | 2        |\n",
      "|    total timesteps  | 24000    |\n",
      "----------------------------------\n",
      "----------------------------------\n",
      "| rollout/            |          |\n",
      "|    exploration rate | 0.05     |\n",
      "| time/               |          |\n",
      "|    episodes         | 16       |\n",
      "|    fps              | 8847     |\n",
      "|    time_elapsed     | 3        |\n",
      "|    total timesteps  | 32000    |\n",
      "----------------------------------\n",
      "----------------------------------\n",
      "| rollout/            |          |\n",
      "|    exploration rate | 0.05     |\n",
      "| time/               |          |\n",
      "|    episodes         | 20       |\n",
      "|    fps              | 8845     |\n",
      "|    time_elapsed     | 4        |\n",
      "|    total timesteps  | 40000    |\n",
      "----------------------------------\n",
      "----------------------------------\n",
      "| rollout/            |          |\n",
      "|    exploration rate | 0.05     |\n",
      "| time/               |          |\n",
      "|    episodes         | 24       |\n",
      "|    fps              | 8999     |\n",
      "|    time_elapsed     | 5        |\n",
      "|    total timesteps  | 48000    |\n",
      "----------------------------------\n",
      "----------------------------------\n",
      "| rollout/            |          |\n",
      "|    exploration rate | 0.05     |\n",
      "| time/               |          |\n",
      "|    episodes         | 28       |\n",
      "|    fps              | 1145     |\n",
      "|    time_elapsed     | 48       |\n",
      "|    total timesteps  | 56000    |\n",
      "| train/              |          |\n",
      "|    learning_rate    | 0.0001   |\n",
      "|    loss             | 0.013    |\n",
      "|    n_updates        | 1499     |\n",
      "----------------------------------\n"
     ]
    },
    {
     "data": {
      "application/vnd.jupyter.widget-view+json": {
       "model_id": "3c259670556e409f988b7fa407af1400",
       "version_major": 2,
       "version_minor": 0
      },
      "text/plain": [
       "  0%|          | 0/10000 [00:00<?, ?it/s]"
      ]
     },
     "metadata": {},
     "output_type": "display_data"
    },
    {
     "name": "stdout",
     "output_type": "stream",
     "text": [
      "Accuracy: 74.60%\n",
      "=============== m=2000 error=25.403353 ===============\n",
      "Using cpu device\n",
      "Wrapping the env in a VecTransposeImage.\n",
      "----------------------------------\n",
      "| rollout/            |          |\n",
      "|    exploration rate | 0.05     |\n",
      "| time/               |          |\n",
      "|    episodes         | 4        |\n",
      "|    fps              | 10493    |\n",
      "|    time_elapsed     | 1        |\n",
      "|    total timesteps  | 12000    |\n",
      "| train/              |          |\n",
      "|    learning_rate    | 0.0001   |\n",
      "|    loss             | 0.3      |\n",
      "|    n_updates        | 2500     |\n",
      "----------------------------------\n",
      "----------------------------------\n",
      "| rollout/            |          |\n",
      "|    exploration rate | 0.05     |\n",
      "| time/               |          |\n",
      "|    episodes         | 8        |\n",
      "|    fps              | 10114    |\n",
      "|    time_elapsed     | 2        |\n",
      "|    total timesteps  | 24000    |\n",
      "----------------------------------\n",
      "----------------------------------\n",
      "| rollout/            |          |\n",
      "|    exploration rate | 0.05     |\n",
      "| time/               |          |\n",
      "|    episodes         | 12       |\n",
      "|    fps              | 9674     |\n",
      "|    time_elapsed     | 3        |\n",
      "|    total timesteps  | 36000    |\n",
      "----------------------------------\n",
      "----------------------------------\n",
      "| rollout/            |          |\n",
      "|    exploration rate | 0.05     |\n",
      "| time/               |          |\n",
      "|    episodes         | 16       |\n",
      "|    fps              | 9287     |\n",
      "|    time_elapsed     | 5        |\n",
      "|    total timesteps  | 48000    |\n",
      "----------------------------------\n",
      "----------------------------------\n",
      "| rollout/            |          |\n",
      "|    exploration rate | 0.05     |\n",
      "| time/               |          |\n",
      "|    episodes         | 20       |\n",
      "|    fps              | 755      |\n",
      "|    time_elapsed     | 79       |\n",
      "|    total timesteps  | 60000    |\n",
      "| train/              |          |\n",
      "|    learning_rate    | 0.0001   |\n",
      "|    loss             | 0.0404   |\n",
      "|    n_updates        | 2499     |\n",
      "----------------------------------\n"
     ]
    },
    {
     "data": {
      "application/vnd.jupyter.widget-view+json": {
       "model_id": "2851bfb75dae4afa8f3c788479dc0402",
       "version_major": 2,
       "version_minor": 0
      },
      "text/plain": [
       "  0%|          | 0/10000 [00:00<?, ?it/s]"
      ]
     },
     "metadata": {},
     "output_type": "display_data"
    },
    {
     "name": "stdout",
     "output_type": "stream",
     "text": [
      "Accuracy: 72.65%\n",
      "=============== m=3000 error=27.351862 ===============\n",
      "Using cpu device\n",
      "Wrapping the env in a VecTransposeImage.\n",
      "----------------------------------\n",
      "| rollout/            |          |\n",
      "|    exploration rate | 0.05     |\n",
      "| time/               |          |\n",
      "|    episodes         | 4        |\n",
      "|    fps              | 9129     |\n",
      "|    time_elapsed     | 1        |\n",
      "|    total timesteps  | 16000    |\n",
      "| train/              |          |\n",
      "|    learning_rate    | 0.0001   |\n",
      "|    loss             | 0.358    |\n",
      "|    n_updates        | 2500     |\n",
      "----------------------------------\n",
      "----------------------------------\n",
      "| rollout/            |          |\n",
      "|    exploration rate | 0.05     |\n",
      "| time/               |          |\n",
      "|    episodes         | 8        |\n",
      "|    fps              | 9265     |\n",
      "|    time_elapsed     | 3        |\n",
      "|    total timesteps  | 32000    |\n",
      "----------------------------------\n",
      "----------------------------------\n",
      "| rollout/            |          |\n",
      "|    exploration rate | 0.05     |\n",
      "| time/               |          |\n",
      "|    episodes         | 12       |\n",
      "|    fps              | 9045     |\n",
      "|    time_elapsed     | 5        |\n",
      "|    total timesteps  | 48000    |\n",
      "----------------------------------\n"
     ]
    },
    {
     "data": {
      "application/vnd.jupyter.widget-view+json": {
       "model_id": "899357f3cb2a4c40a1e5fa8b7762dd69",
       "version_major": 2,
       "version_minor": 0
      },
      "text/plain": [
       "  0%|          | 0/10000 [00:00<?, ?it/s]"
      ]
     },
     "metadata": {},
     "output_type": "display_data"
    },
    {
     "name": "stdout",
     "output_type": "stream",
     "text": [
      "Accuracy: 71.02%\n",
      "=============== m=4000 error=28.979549 ===============\n",
      "Using cpu device\n",
      "Wrapping the env in a VecTransposeImage.\n",
      "----------------------------------\n",
      "| rollout/            |          |\n",
      "|    exploration rate | 0.05     |\n",
      "| time/               |          |\n",
      "|    episodes         | 4        |\n",
      "|    fps              | 9915     |\n",
      "|    time_elapsed     | 1        |\n",
      "|    total timesteps  | 18000    |\n",
      "| train/              |          |\n",
      "|    learning_rate    | 0.0001   |\n",
      "|    loss             | 0.287    |\n",
      "|    n_updates        | 2500     |\n",
      "----------------------------------\n",
      "----------------------------------\n",
      "| rollout/            |          |\n",
      "|    exploration rate | 0.05     |\n",
      "| time/               |          |\n",
      "|    episodes         | 8        |\n",
      "|    fps              | 9772     |\n",
      "|    time_elapsed     | 3        |\n",
      "|    total timesteps  | 36000    |\n",
      "----------------------------------\n",
      "----------------------------------\n",
      "| rollout/            |          |\n",
      "|    exploration rate | 0.05     |\n",
      "| time/               |          |\n",
      "|    episodes         | 12       |\n",
      "|    fps              | 1408     |\n",
      "|    time_elapsed     | 38       |\n",
      "|    total timesteps  | 54000    |\n",
      "| train/              |          |\n",
      "|    learning_rate    | 0.0001   |\n",
      "|    loss             | 0.0385   |\n",
      "|    n_updates        | 999      |\n",
      "----------------------------------\n"
     ]
    },
    {
     "data": {
      "application/vnd.jupyter.widget-view+json": {
       "model_id": "b48721a92e934fe38ec51f3ff66f1770",
       "version_major": 2,
       "version_minor": 0
      },
      "text/plain": [
       "  0%|          | 0/10000 [00:00<?, ?it/s]"
      ]
     },
     "metadata": {},
     "output_type": "display_data"
    },
    {
     "name": "stdout",
     "output_type": "stream",
     "text": [
      "Accuracy: 74.86%\n",
      "=============== m=4500 error=25.141837 ===============\n",
      "Using cpu device\n",
      "Wrapping the env in a VecTransposeImage.\n",
      "----------------------------------\n",
      "| rollout/            |          |\n",
      "|    exploration rate | 0.05     |\n",
      "| time/               |          |\n",
      "|    episodes         | 4        |\n",
      "|    fps              | 9189     |\n",
      "|    time_elapsed     | 2        |\n",
      "|    total timesteps  | 24000    |\n",
      "| train/              |          |\n",
      "|    learning_rate    | 0.0001   |\n",
      "|    loss             | 0.225    |\n",
      "|    n_updates        | 2500     |\n",
      "----------------------------------\n",
      "----------------------------------\n",
      "| rollout/            |          |\n",
      "|    exploration rate | 0.05     |\n",
      "| time/               |          |\n",
      "|    episodes         | 8        |\n",
      "|    fps              | 9050     |\n",
      "|    time_elapsed     | 5        |\n",
      "|    total timesteps  | 48000    |\n",
      "----------------------------------\n"
     ]
    },
    {
     "data": {
      "application/vnd.jupyter.widget-view+json": {
       "model_id": "b566685c7270481e9166047d423ab40c",
       "version_major": 2,
       "version_minor": 0
      },
      "text/plain": [
       "  0%|          | 0/10000 [00:00<?, ?it/s]"
      ]
     },
     "metadata": {},
     "output_type": "display_data"
    },
    {
     "name": "stdout",
     "output_type": "stream",
     "text": [
      "Accuracy: 74.92%\n",
      "=============== m=6000 error=25.078898 ===============\n",
      "Using cpu device\n",
      "Wrapping the env in a VecTransposeImage.\n",
      "----------------------------------\n",
      "| rollout/            |          |\n",
      "|    exploration rate | 0.05     |\n",
      "| time/               |          |\n",
      "|    episodes         | 4        |\n",
      "|    fps              | 9421     |\n",
      "|    time_elapsed     | 3        |\n",
      "|    total timesteps  | 36000    |\n",
      "| train/              |          |\n",
      "|    learning_rate    | 0.0001   |\n",
      "|    loss             | 0.255    |\n",
      "|    n_updates        | 2500     |\n",
      "----------------------------------\n"
     ]
    },
    {
     "data": {
      "application/vnd.jupyter.widget-view+json": {
       "model_id": "d3627da6f9d94805a4673a5526c77905",
       "version_major": 2,
       "version_minor": 0
      },
      "text/plain": [
       "  0%|          | 0/10000 [00:00<?, ?it/s]"
      ]
     },
     "metadata": {},
     "output_type": "display_data"
    },
    {
     "name": "stdout",
     "output_type": "stream",
     "text": [
      "Accuracy: 75.34%\n",
      "=============== m=9000 error=24.657101 ===============\n",
      "Using cpu device\n",
      "Wrapping the env in a VecTransposeImage.\n",
      "----------------------------------\n",
      "| rollout/            |          |\n",
      "|    exploration rate | 0.05     |\n",
      "| time/               |          |\n",
      "|    episodes         | 4        |\n",
      "|    fps              | 9216     |\n",
      "|    time_elapsed     | 5        |\n",
      "|    total timesteps  | 48000    |\n",
      "| train/              |          |\n",
      "|    learning_rate    | 0.0001   |\n",
      "|    loss             | 0.283    |\n",
      "|    n_updates        | 2500     |\n",
      "----------------------------------\n"
     ]
    },
    {
     "data": {
      "application/vnd.jupyter.widget-view+json": {
       "model_id": "b65add18b699489785319c2d0bf88754",
       "version_major": 2,
       "version_minor": 0
      },
      "text/plain": [
       "  0%|          | 0/10000 [00:00<?, ?it/s]"
      ]
     },
     "metadata": {},
     "output_type": "display_data"
    },
    {
     "name": "stdout",
     "output_type": "stream",
     "text": [
      "Accuracy: 74.24%\n",
      "=============== m=12000 error=25.759327 ===============\n"
     ]
    }
   ],
   "source": [
    "import random\n",
    "ranges = [1500, 2000, 3000, 4500, 6000]\n",
    "ranges += [item*2 for item in ranges]\n",
    "ranges = sorted(list(set(ranges)))\n",
    "\n",
    "epochs = 1\n",
    "for testm in ranges[1:]:\n",
    "    data_indices = random.sample(range(0, 60000), testm)\n",
    "\n",
    "    env = DummyVecEnv([lambda: USPSGym(width=64, height=64, channels=1, dataset=(x[data_indices, :], y[data_indices]))])\n",
    "\n",
    "    # Grab the observation shape for generating evaluation frames.\n",
    "    width, height = env.observation_space.shape[0], env.observation_space.shape[1]\n",
    "\n",
    "    test_model = DQN(CnnPolicy, env, verbose=1)\n",
    "\n",
    "    test_model.learn(total_timesteps=len(x) * epochs)\n",
    "    \n",
    "    test_model.save('./models/without_norm_random_{}_{}.zip'.format(testm, epochs))\n",
    "\n",
    "    accuracy = eval(test_model, testx, testy)\n",
    "\n",
    "    error = 100 - accuracy\n",
    "    print(\"=============== m=%d error=%f ===============\" % (testm, error))\n",
    "#     break"
   ]
  },
  {
   "cell_type": "code",
   "execution_count": 28,
   "id": "noble-hypothesis",
   "metadata": {},
   "outputs": [
    {
     "data": {
      "image/png": "[encoded data removed]",
      "text/plain": [
       "<Figure size 432x288 with 1 Axes>"
      ]
     },
     "metadata": {
      "needs_background": "light"
     },
     "output_type": "display_data"
    },
    {
     "data": {
      "image/png": "[encoded data removed]",
      "text/plain": [
       "<Figure size 1080x1080 with 4 Axes>"
      ]
     },
     "metadata": {
      "needs_background": "light"
     },
     "output_type": "display_data"
    },
    {
     "data": {
      "image/png": "[encoded data removed]",
      "text/plain": [
       "<Figure size 1080x1080 with 4 Axes>"
      ]
     },
     "metadata": {
      "needs_background": "light"
     },
     "output_type": "display_data"
    }
   ],
   "source": [
    "import matplotlib.pyplot as plt\n",
    "import numpy as np\n",
    "\n",
    "\n",
    "m = [1500, 2000, 3000, 4000, 4500, 6000, 9000, 12000]\n",
    "accprotos = [71.97, 74.38, 75.02, 76.11, 72.51, 75.25, np.NaN, np.NaN]\n",
    "acccritics = [50.46, 55.00, 58.65, 56.37, 59.19, 60.18, np.NaN, np.NaN]\n",
    "acccombined = [69.14, 72.76, 70.06, 76.97, 74.84, 70.47, 74.09, 73.42]\n",
    "accrandom = [63.73, 64.60, 62.65, 61.02, 64.86, 64.92, 65.34, 64.24]\n",
    "\n",
    "# plt.plot(m, accprotos, marker='o', label='prototypes')\n",
    "# plt.plot(m, acccritics, marker='o', label='criticisms')\n",
    "# plt.plot(m, acccombined, marker='o', label='combined')\n",
    "# plt.plot(m, accrandom, marker='o', label='random')\n",
    "# # plt.plot(m, error)\n",
    "# plt.legend()\n",
    "# plt.title('Deep Q Network (Accuracy Entire Dataset - 60000 Images: 69.85)')\n",
    "# plt.ylabel('Accuracy')\n",
    "# plt.xlabel('Number of data points')\n",
    "# plt.show()\n",
    "\n",
    "\n",
    "plt.scatter(m, accprotos, marker='o', label='prototypes')\n",
    "plt.scatter(m, acccritics, marker='^', label='criticisms')\n",
    "plt.scatter(m, acccombined, marker='x', label='combined')\n",
    "plt.scatter(m, accrandom, marker='*', label='random')\n",
    "# plt.scatter(m, 69.85, marker='o', label='total')\n",
    "plt.legend()\n",
    "plt.title('Deep Q Network (Accuracy Entire Dataset - 60000 Images: 69.85)')\n",
    "plt.ylabel('Accuracy')\n",
    "plt.xlabel('Number of data points')\n",
    "plt.savefig('result_scatter_plot.jpg')\n",
    "plt.show()\n",
    "\n",
    "\n",
    "fig, ax = plt.subplots(2, 2, figsize=(15,15))\n",
    "\n",
    "ax[0, 0].plot(m, accprotos, marker='o', label='prototypes')\n",
    "ax[0, 0].plot(m, accrandom, marker='o', label='random')\n",
    "\n",
    "ax[1, 0].plot(m, acccritics, marker='o', label='criticisms')\n",
    "ax[1, 0].plot(m, accrandom, marker='o', label='random')\n",
    "\n",
    "ax[0, 1].plot(m, acccombined, marker='o', label='combined')\n",
    "ax[0, 1].plot(m, accrandom, marker='o', label='random')\n",
    "\n",
    "ax[1, 1].plot(m, accprotos, marker='o', label='prototypes')\n",
    "ax[1, 1].plot(m, acccritics, marker='o', label='criticisms')\n",
    "ax[1, 1].plot(m, acccombined, marker='o', label='combined')\n",
    "ax[1, 1].plot(m, accrandom, marker='o', label='random')\n",
    "\n",
    "ax[0, 0].legend(loc=\"upper right\")\n",
    "ax[0, 1].legend(loc=\"upper right\")\n",
    "ax[1, 0].legend(loc=\"lower right\")\n",
    "ax[1, 1].legend(loc=\"lower right\")\n",
    "\n",
    "ax[0, 0].set_title('Prototypes vs Random')\n",
    "ax[0, 1].set_title('Combined vs Random')\n",
    "ax[1, 0].set_title('Criticisms vs Random')\n",
    "ax[1, 1].set_title('Prototypes vs Combined vs Criticisms vs Random')\n",
    "\n",
    "ax[0, 0].set_xlabel('Number of data points')\n",
    "ax[0, 1].set_xlabel('Number of data points')\n",
    "ax[1, 0].set_xlabel('Number of data points')\n",
    "ax[1, 1].set_xlabel('Number of data points')\n",
    "\n",
    "ax[0, 0].set_ylabel('Accuracy')\n",
    "ax[0, 1].set_ylabel('Accuracy')\n",
    "ax[1, 0].set_ylabel('Accuracy')\n",
    "ax[1, 1].set_ylabel('Accuracy')\n",
    "\n",
    "fig.suptitle('Deep Q Network (Accuracy Entire Dataset - 60000 Images: 69.85)', fontsize=16)\n",
    "fig.savefig('result_line_plot.jpg')\n",
    "fig.show()\n",
    "\n",
    "fig, ax = plt.subplots(2, 2, figsize=(15,15))\n",
    "\n",
    "ax[0, 0].scatter(m, accprotos, marker='o', label='prototypes')\n",
    "ax[0, 0].scatter(m, accrandom, marker='*', label='random')\n",
    "\n",
    "ax[1, 0].scatter(m, acccritics, marker='^', label='criticisms')\n",
    "ax[1, 0].scatter(m, accrandom, marker='*', label='random')\n",
    "\n",
    "ax[0, 1].scatter(m, acccombined, marker='x', label='combined')\n",
    "ax[0, 1].scatter(m, accrandom, marker='*', label='random')\n",
    "\n",
    "ax[1, 1].scatter(m, accprotos, marker='o', label='prototypes')\n",
    "ax[1, 1].scatter(m, acccritics, marker='^', label='criticisms')\n",
    "ax[1, 1].scatter(m, acccombined, marker='x', label='combined')\n",
    "ax[1, 1].scatter(m, accrandom, marker='*', label='random')\n",
    "\n",
    "ax[0, 0].legend(loc=\"upper right\")\n",
    "ax[0, 1].legend(loc=\"upper right\")\n",
    "ax[1, 0].legend(loc=\"lower right\")\n",
    "ax[1, 1].legend(loc=\"lower right\")\n",
    "\n",
    "ax[0, 0].set_title('Prototypes vs Random')\n",
    "ax[0, 1].set_title('Combined vs Random')\n",
    "ax[1, 0].set_title('Criticisms vs Random')\n",
    "ax[1, 1].set_title('Prototypes vs Combined vs Criticisms vs Random')\n",
    "\n",
    "ax[0, 0].set_xlabel('Number of data points')\n",
    "ax[0, 1].set_xlabel('Number of data points')\n",
    "ax[1, 0].set_xlabel('Number of data points')\n",
    "ax[1, 1].set_xlabel('Number of data points')\n",
    "\n",
    "ax[0, 0].set_ylabel('Accuracy')\n",
    "ax[0, 1].set_ylabel('Accuracy')\n",
    "ax[1, 0].set_ylabel('Accuracy')\n",
    "ax[1, 1].set_ylabel('Accuracy')\n",
    "\n",
    "fig.suptitle('Deep Q Network (Accuracy Entire Dataset - 60000 Images: 69.85)', fontsize=16)\n",
    "fig.savefig('result_scatter_all_plot.jpg')\n",
    "fig.show()"
   ]
  },
  {
   "cell_type": "code",
   "execution_count": 9,
   "id": "private-artwork",
   "metadata": {},
   "outputs": [
    {
     "ename": "NameError",
     "evalue": "name 'x' is not defined",
     "output_type": "error",
     "traceback": [
      "\u001b[0;31m---------------------------------------------------------------------------\u001b[0m",
      "\u001b[0;31mNameError\u001b[0m                                 Traceback (most recent call last)",
      "\u001b[0;32m<ipython-input-9-de8be595986d>\u001b[0m in \u001b[0;36m<module>\u001b[0;34m\u001b[0m\n\u001b[1;32m      6\u001b[0m \u001b[0;34m\u001b[0m\u001b[0m\n\u001b[1;32m      7\u001b[0m \u001b[0mdata_indices\u001b[0m \u001b[0;34m=\u001b[0m \u001b[0mrandom\u001b[0m\u001b[0;34m.\u001b[0m\u001b[0msample\u001b[0m\u001b[0;34m(\u001b[0m\u001b[0mrange\u001b[0m\u001b[0;34m(\u001b[0m\u001b[0;36m0\u001b[0m\u001b[0;34m,\u001b[0m \u001b[0;36m6000\u001b[0m\u001b[0;34m)\u001b[0m\u001b[0;34m,\u001b[0m \u001b[0;36m1500\u001b[0m\u001b[0;34m)\u001b[0m\u001b[0;34m\u001b[0m\u001b[0;34m\u001b[0m\u001b[0m\n\u001b[0;32m----> 8\u001b[0;31m \u001b[0mprint\u001b[0m\u001b[0;34m(\u001b[0m\u001b[0mlen\u001b[0m\u001b[0;34m(\u001b[0m\u001b[0mx\u001b[0m\u001b[0;34m[\u001b[0m\u001b[0mselected\u001b[0m\u001b[0;34m[\u001b[0m\u001b[0mdata_indices\u001b[0m\u001b[0;34m]\u001b[0m\u001b[0;34m,\u001b[0m \u001b[0;34m:\u001b[0m\u001b[0;34m]\u001b[0m\u001b[0;34m)\u001b[0m\u001b[0;34m,\u001b[0m \u001b[0mlen\u001b[0m\u001b[0;34m(\u001b[0m\u001b[0my\u001b[0m\u001b[0;34m[\u001b[0m\u001b[0mselected\u001b[0m\u001b[0;34m[\u001b[0m\u001b[0mdata_indices\u001b[0m\u001b[0;34m]\u001b[0m\u001b[0;34m]\u001b[0m\u001b[0;34m)\u001b[0m\u001b[0;34m)\u001b[0m\u001b[0;34m\u001b[0m\u001b[0;34m\u001b[0m\u001b[0m\n\u001b[0m\u001b[1;32m      9\u001b[0m \u001b[0;34m\u001b[0m\u001b[0m\n\u001b[1;32m     10\u001b[0m \u001b[0menv\u001b[0m \u001b[0;34m=\u001b[0m \u001b[0mDummyVecEnv\u001b[0m\u001b[0;34m(\u001b[0m\u001b[0;34m[\u001b[0m\u001b[0;32mlambda\u001b[0m\u001b[0;34m:\u001b[0m \u001b[0mUSPSGym\u001b[0m\u001b[0;34m(\u001b[0m\u001b[0mwidth\u001b[0m\u001b[0;34m=\u001b[0m\u001b[0;36m64\u001b[0m\u001b[0;34m,\u001b[0m \u001b[0mheight\u001b[0m\u001b[0;34m=\u001b[0m\u001b[0;36m64\u001b[0m\u001b[0;34m,\u001b[0m \u001b[0mchannels\u001b[0m\u001b[0;34m=\u001b[0m\u001b[0;36m1\u001b[0m\u001b[0;34m,\u001b[0m \u001b[0mdataset\u001b[0m\u001b[0;34m=\u001b[0m\u001b[0;34m(\u001b[0m\u001b[0mx\u001b[0m\u001b[0;34m[\u001b[0m\u001b[0mselected\u001b[0m\u001b[0;34m[\u001b[0m\u001b[0mdata_indices\u001b[0m\u001b[0;34m]\u001b[0m\u001b[0;34m,\u001b[0m \u001b[0;34m:\u001b[0m\u001b[0;34m]\u001b[0m\u001b[0;34m,\u001b[0m \u001b[0my\u001b[0m\u001b[0;34m[\u001b[0m\u001b[0mselected\u001b[0m\u001b[0;34m[\u001b[0m\u001b[0mdata_indices\u001b[0m\u001b[0;34m]\u001b[0m\u001b[0;34m]\u001b[0m\u001b[0;34m)\u001b[0m\u001b[0;34m)\u001b[0m\u001b[0;34m]\u001b[0m\u001b[0;34m)\u001b[0m\u001b[0;34m\u001b[0m\u001b[0;34m\u001b[0m\u001b[0m\n",
      "\u001b[0;31mNameError\u001b[0m: name 'x' is not defined"
     ]
    }
   ],
   "source": [
    "import random\n",
    "\n",
    "testm = 'combined/combined_3000.npy'\n",
    "selected = np.load(testm)\n",
    "#     print(selected)\n",
    "\n",
    "data_indices = random.sample(range(0, 6000), 1500)\n",
    "print(len(x[selected[data_indices], :]), len(y[selected[data_indices]]))\n",
    "\n",
    "env = DummyVecEnv([lambda: USPSGym(width=64, height=64, channels=1, dataset=(x[selected[data_indices], :], y[selected[data_indices]]))])\n",
    "\n",
    "# Grab the observation shape for generating evaluation frames.\n",
    "width, height = env.observation_space.shape[0], env.observation_space.shape[1]\n",
    "\n",
    "test_model = DQN(CnnPolicy, env, verbose=1)\n",
    "\n",
    "test_model.learn(total_timesteps=len(x) * 1)\n",
    "\n",
    "test_model.save('./models/without_norm_{}_{}.zip'.format('protos_1500', 1))\n",
    "\n",
    "accuracy = eval(test_model, testx, testy)\n",
    "\n",
    "error = 100 - accuracy\n",
    "print(\"=============== m={} error={} ===============\".format(1500, error))\n",
    "\n",
    "\n",
    "data_indices = random.sample(range(0, 6000), 2000)\n",
    "print(len(x[selected[data_indices], :]), len(y[selected[data_indices]]))\n",
    "\n",
    "env = DummyVecEnv([lambda: USPSGym(width=64, height=64, channels=1, dataset=(x[selected[data_indices], :], y[selected[data_indices]]))])\n",
    "\n",
    "# Grab the observation shape for generating evaluation frames.\n",
    "width, height = env.observation_space.shape[0], env.observation_space.shape[1]\n",
    "\n",
    "test_model = DQN(CnnPolicy, env, verbose=1)\n",
    "\n",
    "test_model.learn(total_timesteps=len(x) * 1)\n",
    "\n",
    "test_model.save('./models/without_norm_{}_{}.zip'.format('protos_2000', 1))\n",
    "\n",
    "accuracy = eval(test_model, testx, testy)\n",
    "\n",
    "error = 100 - accuracy\n",
    "print(\"=============== m={} error={} ===============\".format(2000, error))\n",
    "\n",
    "\n",
    "data_indices = random.sample(range(0, 6000), 4500)\n",
    "print(len(x[selected[data_indices], :]), len(y[selected[data_indices]]))\n",
    "\n",
    "env = DummyVecEnv([lambda: USPSGym(width=64, height=64, channels=1, dataset=(x[selected[data_indices], :], y[selected[data_indices]]))])\n",
    "\n",
    "# Grab the observation shape for generating evaluation frames.\n",
    "width, height = env.observation_space.shape[0], env.observation_space.shape[1]\n",
    "\n",
    "test_model = DQN(CnnPolicy, env, verbose=1)\n",
    "\n",
    "test_model.learn(total_timesteps=len(x) * 1)\n",
    "\n",
    "test_model.save('./models/without_norm_{}_{}.zip'.format('protos_4500', 1))\n",
    "\n",
    "accuracy = eval(test_model, testx, testy)\n",
    "\n",
    "error = 100 - accuracy\n",
    "print(\"=============== m={} error={} ===============\".format(4500, error))"
   ]
  },
  {
   "cell_type": "code",
   "execution_count": 8,
   "id": "southeast-nightmare",
   "metadata": {},
   "outputs": [
    {
     "name": "stdout",
     "output_type": "stream",
     "text": [
      "4000 4000\n",
      "Using cpu device\n",
      "Wrapping the env in a VecTransposeImage.\n",
      "----------------------------------\n",
      "| rollout/            |          |\n",
      "|    exploration rate | 0.05     |\n",
      "| time/               |          |\n",
      "|    episodes         | 4        |\n",
      "|    fps              | 11744    |\n",
      "|    time_elapsed     | 1        |\n",
      "|    total timesteps  | 16000    |\n",
      "| train/              |          |\n",
      "|    learning_rate    | 0.0001   |\n",
      "|    loss             | 0.314    |\n",
      "|    n_updates        | 2500     |\n",
      "----------------------------------\n",
      "----------------------------------\n",
      "| rollout/            |          |\n",
      "|    exploration rate | 0.05     |\n",
      "| time/               |          |\n",
      "|    episodes         | 8        |\n",
      "|    fps              | 12301    |\n",
      "|    time_elapsed     | 2        |\n",
      "|    total timesteps  | 32000    |\n",
      "----------------------------------\n",
      "----------------------------------\n",
      "| rollout/            |          |\n",
      "|    exploration rate | 0.05     |\n",
      "| time/               |          |\n",
      "|    episodes         | 12       |\n",
      "|    fps              | 12542    |\n",
      "|    time_elapsed     | 3        |\n",
      "|    total timesteps  | 48000    |\n",
      "----------------------------------\n"
     ]
    },
    {
     "data": {
      "application/vnd.jupyter.widget-view+json": {
       "model_id": "050f634c8f22497bb834ac65b719292e",
       "version_major": 2,
       "version_minor": 0
      },
      "text/plain": [
       "  0%|          | 0/10000 [00:00<?, ?it/s]"
      ]
     },
     "metadata": {},
     "output_type": "display_data"
    },
    {
     "name": "stdout",
     "output_type": "stream",
     "text": [
      "Accuracy: 56.37%\n",
      "=============== m=4000 error=43.63040490538111 ===============\n"
     ]
    }
   ],
   "source": [
    "import random\n",
    "\n",
    "testm = 'critics/crits_4500.npy'\n",
    "selected = np.load(testm)\n",
    "#     print(selected)\n",
    "\n",
    "data_indices = random.sample(range(0, 4500), 4000)\n",
    "print(len(x[selected[data_indices], :]), len(y[selected[data_indices]]))\n",
    "\n",
    "env = DummyVecEnv([lambda: USPSGym(width=64, height=64, channels=1, dataset=(x[selected[data_indices], :], y[selected[data_indices]]))])\n",
    "\n",
    "# Grab the observation shape for generating evaluation frames.\n",
    "width, height = env.observation_space.shape[0], env.observation_space.shape[1]\n",
    "\n",
    "test_model = DQN(CnnPolicy, env, verbose=1)\n",
    "\n",
    "test_model.learn(total_timesteps=len(x) * 1)\n",
    "\n",
    "test_model.save('./models/without_norm_{}_{}.zip'.format('critics_4000', 1))\n",
    "\n",
    "accuracy = eval(test_model, testx, testy)\n",
    "\n",
    "error = 100 - accuracy\n",
    "print(\"=============== m={} error={} ===============\".format(4000, error))"
   ]
  },
  {
   "cell_type": "code",
   "execution_count": 9,
   "id": "cross-boston",
   "metadata": {},
   "outputs": [
    {
     "name": "stdout",
     "output_type": "stream",
     "text": [
      "4000 4000\n",
      "Using cpu device\n",
      "Wrapping the env in a VecTransposeImage.\n",
      "----------------------------------\n",
      "| rollout/            |          |\n",
      "|    exploration rate | 0.05     |\n",
      "| time/               |          |\n",
      "|    episodes         | 4        |\n",
      "|    fps              | 12552    |\n",
      "|    time_elapsed     | 1        |\n",
      "|    total timesteps  | 16000    |\n",
      "| train/              |          |\n",
      "|    learning_rate    | 0.0001   |\n",
      "|    loss             | 0.165    |\n",
      "|    n_updates        | 2500     |\n",
      "----------------------------------\n",
      "----------------------------------\n",
      "| rollout/            |          |\n",
      "|    exploration rate | 0.05     |\n",
      "| time/               |          |\n",
      "|    episodes         | 8        |\n",
      "|    fps              | 12735    |\n",
      "|    time_elapsed     | 2        |\n",
      "|    total timesteps  | 32000    |\n",
      "----------------------------------\n",
      "----------------------------------\n",
      "| rollout/            |          |\n",
      "|    exploration rate | 0.05     |\n",
      "| time/               |          |\n",
      "|    episodes         | 12       |\n",
      "|    fps              | 12809    |\n",
      "|    time_elapsed     | 3        |\n",
      "|    total timesteps  | 48000    |\n",
      "----------------------------------\n"
     ]
    },
    {
     "data": {
      "application/vnd.jupyter.widget-view+json": {
       "model_id": "1df55499728342cc9301c4cc47338f46",
       "version_major": 2,
       "version_minor": 0
      },
      "text/plain": [
       "  0%|          | 0/10000 [00:00<?, ?it/s]"
      ]
     },
     "metadata": {},
     "output_type": "display_data"
    },
    {
     "name": "stdout",
     "output_type": "stream",
     "text": [
      "Accuracy: 76.97%\n",
      "=============== m=4000 error=23.03157894736843 ===============\n"
     ]
    }
   ],
   "source": [
    "import random\n",
    "\n",
    "testm = 'combined/combined_4500.npy'\n",
    "selected = np.load(testm)\n",
    "#     print(selected)\n",
    "\n",
    "data_indices = random.sample(range(0, 4500), 4000)\n",
    "print(len(x[selected[data_indices], :]), len(y[selected[data_indices]]))\n",
    "\n",
    "env = DummyVecEnv([lambda: USPSGym(width=64, height=64, channels=1, dataset=(x[selected[data_indices], :], y[selected[data_indices]]))])\n",
    "\n",
    "# Grab the observation shape for generating evaluation frames.\n",
    "width, height = env.observation_space.shape[0], env.observation_space.shape[1]\n",
    "\n",
    "test_model = DQN(CnnPolicy, env, verbose=1)\n",
    "\n",
    "test_model.learn(total_timesteps=len(x) * 1)\n",
    "\n",
    "test_model.save('./models/without_norm_{}_{}.zip'.format('combined_4000', 1))\n",
    "\n",
    "accuracy = eval(test_model, testx, testy)\n",
    "\n",
    "error = 100 - accuracy\n",
    "print(\"=============== m={} error={} ===============\".format(4000, error))"
   ]
  },
  {
   "cell_type": "code",
   "execution_count": null,
   "id": "changing-relations",
   "metadata": {},
   "outputs": [],
   "source": []
  }
 ],
 "metadata": {
  "kernelspec": {
   "display_name": "Python 3",
   "language": "python",
   "name": "python3"
  },
  "language_info": {
   "codemirror_mode": {
    "name": "ipython",
    "version": 3
   },
   "file_extension": ".py",
   "mimetype": "text/x-python",
   "name": "python",
   "nbconvert_exporter": "python",
   "pygments_lexer": "ipython3",
   "version": "3.6.9"
  }
 },
 "nbformat": 4,
 "nbformat_minor": 5
}
